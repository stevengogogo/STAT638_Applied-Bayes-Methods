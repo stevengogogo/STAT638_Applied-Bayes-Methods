{
 "cells": [
  {
   "cell_type": "raw",
   "id": "86a2a7c9",
   "metadata": {},
   "source": [
    "---\n",
    "title: Homework 9\n",
    "author:\n",
    "  - name: 'Shao-Ting Chiu (UIN:433002162)'\n",
    "    url: stchiu@email.tamu.edu\n",
    "    affiliation: 'Department of Electrical and Computer Engineering, Texas A\\&M University'\n",
    "date: today\n",
    "bibliography: ../ref.bib\n",
    "format:\n",
    "  html:\n",
    "    table-of-contents: true\n",
    "    keep-ipynb: true\n",
    "  pdf:\n",
    "    table-of-contents: true\n",
    "execute:\n",
    "  echo: true\n",
    "  freeze: auto\n",
    "---"
   ]
  },
  {
   "cell_type": "markdown",
   "id": "20a804d2",
   "metadata": {},
   "source": [
    "## Computational Environment\n"
   ]
  },
  {
   "cell_type": "code",
   "execution_count": 1,
   "id": "a04ffd65",
   "metadata": {},
   "outputs": [
    {
     "name": "stderr",
     "output_type": "stream",
     "text": [
      "\u001b[32m\u001b[1m  Activating\u001b[22m\u001b[39m project at `~/Documents/GitHub/STAT638_Applied-Bayes-Methods/hw/hw9`\n"
     ]
    },
    {
     "data": {
      "text/plain": [
       "Random.TaskLocalRNG()"
      ]
     },
     "execution_count": 14,
     "metadata": {},
     "output_type": "execute_result"
    }
   ],
   "source": [
    "using Pkg\n",
    "Pkg.activate(\"hw9\")\n",
    "using Distributions\n",
    "using DataFrames\n",
    "using Plots\n",
    "using DelimitedFiles\n",
    "using LinearAlgebra\n",
    "using Statistics\n",
    "using ProtoStructs\n",
    "import Random\n",
    "Random.seed!(2022)"
   ]
  },
  {
   "cell_type": "markdown",
   "id": "4a108c83",
   "metadata": {},
   "source": [
    "## Description\n",
    "\n",
    "- Course: STAT638, 2022 Fall\n",
    "- Deadline: 2022/11/17, 12:00 pm\n",
    "\n",
    "> Read Chapter 9 in the Hoff book. Then do Problems 9.1 and 9.2 in Hoff.\n",
    "> \n",
    "> For both regression models, please include an intercept term ($\\beta_0$).\n",
    "> \n",
    "> In 9.1(b), please replace \"max\" by \"min\". (This is not listed in the official book errata, but appears to be a typo.)\n",
    "> \n",
    "> For 9.2, the azdiabetes.dat data are described in *Exercise* 6 of Chapter 7 (see errata).\n",
    "\n",
    "\n",
    "\n",
    "## Problem 9.1\n",
    "\n",
    "> Extrapolation: The file `swim.dat` contains data on the amount of time in seconds, it takes each of four high school swimmers to swim $50$ yards. Each swimmer has $6$ times, taken on a biweekly basis.\n",
    "\n",
    "### (a)\n",
    "\n",
    "> Perform the following data analysis for each swimmer separately:\n",
    "> \n",
    "> 1. Fit a linear regression model of swimming time as the response and week as the explanatory variable. To formulate your prior, use the information that competitive times for this age group generally range from $22$ to $24$ seconds.\n",
    "> 2. For each swimmer $j$, obtain a posterior predictive distribution for $Y^{*}_j$, their time if they were to swim $2$ weeks from the last recorded time.\n",
    "\n",
    "- Suppose a linear model\n",
    "$$Y = X\\beta + \\epsilon$$\n",
    "\n",
    "$$Y_i = x_{i,1} \\beta_1 + x_{i,2} \\beta_2 + \\epsilon_i$$\n",
    "\n",
    "- $Y = \\begin{bmatrix} Y_1\\\\  \\vdots\\\\ Y_6\\end{bmatrix}$. A swimmer's record of $6$. Series in time\n",
    "\n",
    "- $X = \\begin{bmatrix} x_{1,1} & x_{1,2}\\\\ \\vdots & \\vdots \\\\ x_{6,1} & x_{6,2} \\end{bmatrix}$\n",
    "  - $x_{j,1}$: $j$th record with swim score in the range of 22 to 24 second\n",
    "  - $x_{j,2}$: Weeks of training\n",
    "\n",
    "- $\\beta = \\begin{bmatrix} \\beta_1 \\\\ \\beta_2 \\end{bmatrix}$. \n",
    "  - $\\mu_0 = \\begin{bmatrix} 23\\\\ 0 \\end{bmatrix}$\n",
    "    - The prior expectation of intercept of $y$ is $23$.\n",
    "  - $\\beta_0 \\sim N_p(\\mu_0, \\Sigma_0)$.\n",
    "    1. FCD: $\\beta|y, \\sigma^2 \\sim N_p(\\beta_n, \\Sigma_n)$\n",
    "    1. $\\Sigma^{-1}_{n} = \\Sigma^{-1}_{0} + \\frac{X^T X}{\\sigma^2}$\n",
    "    2. $\\beta_n = \\Sigma_n (\\Sigma^{-1}_{0} \\beta_0 + \\frac{X^T y}{\\sigma^2})$ \n",
    "\n",
    "**Prior setting**\n",
    "\n",
    "- $\\Sigma_{0} = \\begin{bmatrix} 0.1 & 0\\\\ 0 & 0.1 \\end{bmatrix}$\n",
    "  - There is uncertainty about $\\beta$ estimation. \n",
    "  - Covariance of time and intersept is believe as $0$\n",
    "- $\\sigma^2 \\sim IG(\\nu_0/2 , \\nu_0 \\sigma^{2}_0 /2)$\n",
    "  - FCD: $\\sigma^2 |y,\\beta \\sim IG((\\nu_0 + n)/2, (\\nu_0\\sigma^{2}_{0}) + SSR(\\beta)/2)$\n",
    "- $SSR(\\beta) = (y - X\\beta)^T (y-X\\beta)$\n"
   ]
  },
  {
   "cell_type": "code",
   "execution_count": 2,
   "id": "33e54c6d",
   "metadata": {},
   "outputs": [
    {
     "data": {
      "text/plain": [
       "4×6 Matrix{Float64}:\n",
       " 23.1  23.2  22.9  22.9  22.8  22.7\n",
       " 23.2  23.1  23.4  23.5  23.5  23.4\n",
       " 22.7  22.6  22.8  22.8  22.9  22.8\n",
       " 23.7  23.6  23.7  23.5  23.5  23.4"
      ]
     },
     "execution_count": 15,
     "metadata": {},
     "output_type": "execute_result"
    }
   ],
   "source": [
    "data = readdlm(\"data/swim.dat\")"
   ]
  },
  {
   "cell_type": "code",
   "execution_count": 3,
   "id": "f72fca39",
   "metadata": {},
   "outputs": [
    {
     "data": {
      "text/plain": [
       "6×2 Matrix{Float64}:\n",
       " 1.0   0.0\n",
       " 1.0   2.0\n",
       " 1.0   4.0\n",
       " 1.0   6.0\n",
       " 1.0   8.0\n",
       " 1.0  10.0"
      ]
     },
     "execution_count": 16,
     "metadata": {},
     "output_type": "execute_result"
    }
   ],
   "source": [
    "S = 1000\n",
    "\n",
    "n = size(data)[2] # number of records\n",
    "X = hcat( ones(n), collect(0:2:10) )"
   ]
  },
  {
   "cell_type": "code",
   "execution_count": 4,
   "id": "1a7b2ecc",
   "metadata": {},
   "outputs": [
    {
     "data": {
      "text/plain": [
       "6×2 Matrix{Float64}:\n",
       " 1.0   0.0\n",
       " 1.0   2.0\n",
       " 1.0   4.0\n",
       " 1.0   6.0\n",
       " 1.0   8.0\n",
       " 1.0  10.0"
      ]
     },
     "execution_count": 17,
     "metadata": {},
     "output_type": "execute_result"
    }
   ],
   "source": [
    "@proto struct SwimmingModel\n",
    "  # Data\n",
    "  X = hcat( ones(n), collect(0:2:10) )\n",
    "  \n",
    "end\n",
    "\n",
    "@proto struct SwimmingPrior\n",
    "\n",
    "end\n",
    "\n",
    "SwimmingModel().X"
   ]
  },
  {
   "cell_type": "markdown",
   "id": "794f981d",
   "metadata": {},
   "source": [
    "### (b)\n",
    "\n",
    "> The coach of the team has to decide which of the four swimmers will compete in a swimming meet in $2$ weeks. Using your predictive distributions, compute $Pr(Y^{*}_{j} = \\max\\{Y^{*}_1,\\dots, Y^{*}_4\\}|Y)$ for each swimmer $j$, and based on this make a recommendation to the coach.\n",
    "\n",
    "## Problem 9.2\n",
    "\n",
    "> Model selection: As described in Example 6 of Chapter 7, the file `azdiabetes.dat` contains data on health-related variables of a population of $532$ women. In this exercise we will be modeling the conditional distribution of glucose level (`glu`) as a linear combination of the other variables, excluding the variable `diabetes`.\n",
    "\n",
    "\n",
    "### (a)\n",
    "\n",
    "> Fit a regression model using the $g$-prior with $g=n$, $\\nu_0 =2$ and $\\sigma^{2}_{0} = 1$. Obtain posterior confidence intervals for all of the parameters.\n",
    "\n",
    "\n",
    "### (b)\n",
    "\n",
    "> Perform the model selection and averaging procedure described in Section 9.3. Obtain $Pr(\\beta_j \\neq 0 |y)$, as well as posterior confidence intervals for all of the parameters. Compare to the results in part (a)."
   ]
  }
 ],
 "metadata": {
  "kernelspec": {
   "display_name": "Julia 1.8.0",
   "language": "julia",
   "name": "julia-1.8"
  }
 },
 "nbformat": 4,
 "nbformat_minor": 5
}
