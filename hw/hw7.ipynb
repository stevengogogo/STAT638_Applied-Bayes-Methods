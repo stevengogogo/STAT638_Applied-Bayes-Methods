{
  "cells": [
    {
      "cell_type": "raw",
      "metadata": {},
      "source": [
        "---\n",
        "title: Homework 7\n",
        "author:\n",
        "  - name: 'Shao-Ting Chiu (UIN:433002162)'\n",
        "    url: stchiu@email.tamu.edu\n",
        "    affiliation: 'Department of Electrical and Computer Engineering, Texas A\\&M University'\n",
        "date: today\n",
        "bibliography: ../ref.bib\n",
        "format:\n",
        "  html:\n",
        "    table-of-contents: true\n",
        "    keep-ipynb: true\n",
        "  pdf:\n",
        "    table-of-contents: true\n",
        "execute:\n",
        "  echo: true\n",
        "  freeze: auto\n",
        "---"
      ],
      "id": "bca8f4d8"
    },
    {
      "cell_type": "markdown",
      "metadata": {},
      "source": [
        "## Description\n",
        "\n",
        "- Course: STAT638, 2022 Fall\n",
        "\n",
        "> Read Chapter 7 in Hoff. Then, do the following exercises:  7.1, 7.3, 7.4.\n",
        "> \n",
        "> Problem 7.1 considers the standard/joint Jeffreys prior (as opposed to the independent Jeffreys prior considered on the lecture slides). You may find the following hints useful:\n",
        "> \n",
        "> - You can write  $y_i-\\theta$  as  $(y_i - \\bar{y}) + (\\bar{y}-\\theta)$  and expand the quadratic form in the exponent in the multivariate normal likelihood accordingly.\n",
        "> - $\\sum_{i} b^{T}_{i} Ac = c^T A(\\Sigma_{i} b_i)$\n",
        "> - Brute-force integration can sometimes be avoided if the integrand is proportional to a known density (e.g., multivariate normal), as any density integrates to 1 and the normalizing constant is known for known densities.\n",
        "> For 7.3, note that the `rWishart()` function in R  returns a three-dimensional array, so we have to index the array as [,,1] to get to the actual matrix located within the array.\n"
      ],
      "id": "968c6114"
    },
    {
      "cell_type": "markdown",
      "metadata": {},
      "source": [
        "---\n",
        "\n",
        "## Computational Enviromnent Setup\n",
        "\n",
        "### Third-party libraries"
      ],
      "id": "95fe22a3"
    },
    {
      "cell_type": "code",
      "metadata": {},
      "source": [
        "using Pkg\n",
        "Pkg.activate(\"hw7\")\n",
        "using Distributions\n",
        "using DataFrames\n",
        "using Turing\n",
        "using Plots\n",
        "using DelimitedFiles\n",
        "using LinearAlgebra\n",
        "using Statistics\n",
        "using Turing"
      ],
      "id": "4c06578b",
      "execution_count": null,
      "outputs": []
    },
    {
      "cell_type": "markdown",
      "metadata": {},
      "source": [
        "### Version"
      ],
      "id": "a779d644"
    },
    {
      "cell_type": "code",
      "metadata": {},
      "source": [
        "Pkg.status()\n",
        "VERSION"
      ],
      "id": "eeef1940",
      "execution_count": null,
      "outputs": []
    },
    {
      "cell_type": "raw",
      "metadata": {},
      "source": [
        "---"
      ],
      "id": "9da68d11"
    },
    {
      "cell_type": "markdown",
      "metadata": {},
      "source": [
        "## Problem 7.1\n",
        "\n",
        "> Jeffrey's prior: For the multivariate normal model, Jeffreys' rule for generating a prior distribution on $(\\theta, \\Sigma)$ gives $p_J(\\theta, \\Sigma) \\propto |\\Sigma|^{-(p+2)/2}$.\n",
        "\n",
        "### (a)\n",
        "\n",
        "> Explain why the function $p_J$ cannot actually be a probability density for $(\\theta, \\Sigma)$.\n",
        "\n",
        "The density is independent of $\\theta$. The integration can be infinity and beyond $1$.\n",
        "\n",
        "\n",
        "### (b)\n",
        "\n",
        "> Let $p_J(\\theta, \\Sigma|y_1, \\dots, y_n)$ be the probability density that is proportional to $p_J(\\theta, \\Sigma)\\times p(y_1,\\dots, y_n|\\theta, \\Sigma)$. Obtain the form of $p_J(\\theta, \\Sigma|y_1, \\dots, y_n)$, $p_J(\\theta|\\Sigma, y_1, \\dots, y_n)$ and $p_J(\\Sigma|y_1, \\dots, y_n)$.\n",
        "\n",
        "\n",
        "\\begin{align}\n",
        "    p_{J}(\\theta, \\Sigma | y_1, \\dots, y_n)%\n",
        "    &\\propto p_J(\\theta, \\Sigma) \\times p(y_1, \\dots, y_n | \\theta, \\Sigma)\\\\\n",
        "    &\\propto |\\Sigma|^{-\\frac{p+2}{2}} \\times \\left[|\\Sigma|^{-\\frac{n}{2}} \\exp\\left(-tr(S_{\\theta}\\Sigma^{-1})\\right)\\right /2]\\\\ \n",
        "    &\\propto |\\Sigma|^{-\\frac{p+n+2}{2}}\\exp\\left( -tr(S_{\\theta}\\Sigma^{-1})/2 \\right)\n",
        "\\end{align}\n",
        "\n",
        "\\begin{align}\n",
        "    p_J(\\theta | \\Sigma, y_1, \\dots, y_n)%\n",
        "    &\\propto  \\exp\\left[ - \\sum^{n}_{i=1} (y_i - \\theta)^T \\Sigma^{-1} (y_i - \\theta)/2 \\right]\\\\ \n",
        "    &\\propto \\exp \\left[ -n(\\bar{y} - \\theta)^T \\Sigma^{-1} (\\bar{y}-\\theta)/2 \\right]\\\\ \n",
        "    &\\propto Normal(\\theta; \\bar{y},\\frac{\\Sigma}{n})\n",
        "\\end{align}\n",
        "\n",
        "\\begin{align}\n",
        "    p_{J}(\\Sigma | y_1, \\dots, y_n, \\theta)%\n",
        "    &\\propto |\\Sigma|^{-\\frac{p+n+2}{2}}\\exp\\left( -tr(S_\\theta \\Sigma^{-1})/2 \\right)\\\\ \n",
        "    &\\propto inverse-Wishart(\\Sigma; n+1, S_{\\theta}^{-1} )\n",
        "\\end{align}\n",
        "\n",
        "\n",
        "## Problem 7.3\n",
        "\n",
        "> Australian crab data: The files `bluecrab.dat` and `orangecrab.dat` contain measurements of body depth ($Y_1$) and rear width ($Y_2$), in millimeters, made on $50$ male crabs from each of two species, blud and orange. We will model these data using a bivariate normal distribution.\n"
      ],
      "id": "51e36181"
    },
    {
      "cell_type": "code",
      "metadata": {},
      "source": [
        "dblue = readdlm(\"data/bluecrab.dat\")\n",
        "doran = readdlm(\"data/orangecrab.dat\");"
      ],
      "id": "09cb06b1",
      "execution_count": null,
      "outputs": []
    },
    {
      "cell_type": "markdown",
      "metadata": {},
      "source": [
        "### (a) \n",
        "\n",
        "> For each of the two species, obtain posterior distributions of the population mean $\\theta$ and covariance matrix $\\Sigma$ as follows: Using the semiconjugate prior distributions for $\\theta$ and $\\Sigma$, set $\\mu_0$ equal to the sample mean of the data, $\\Lambda_0$ and $S_0$ equal to the sample covariance matrix and $\\nu_0 =4$. Obtain $10000$ posterior samples of $\\theta$ and $\\Sigma$. Note that this prior distribution lossely centers the parameters around empirical estimates based on the observed data (and is very similar to the unit information prior described in the previous exericise). It cannot be consitered as our true prior distribution, as it was derived from the observed data. However, it can roughly considered as the prior distribution of someone with weak but unbiased information.\n",
        "\n",
        "- $p(\\theta) = \\exp\\left[ -\\frac{1}{2}\\theta^T A_0 \\theta + \\theta^T b_0\\right] = multivariate-normal(\\mu_0, \\Lambda_0)$\n",
        "    - $A_0 = \\Lambda_{0}^{-1}$\n",
        "    - $b_0 = \\Lambda_{0}^{-1}\\mu_0$\n",
        "- $p(\\Sigma) = inverse-Whishart(\\nu_0, S_{0}^{-1})$\n"
      ],
      "id": "ea9aee4d"
    },
    {
      "cell_type": "code",
      "metadata": {},
      "source": [
        "S = 10000\n",
        "function sampling(crab)\n",
        "    n, p = size(crab)\n",
        "    μ₀ = transpose(mean(crab, dims=1))\n",
        "    Λ₀ = S₀= cov(crab)\n",
        "    ν₀ = 4\n",
        "    θs = zeros(S, p)\n",
        "    Σs = zeros(S, p, p);\n",
        "\n",
        "    # Gibbs sampling\n",
        "    for s in 1:S\n",
        "        # update θ\n",
        "        Λₙ = inv(inv(Λ₀) + n*inv(S₀))\n",
        "        μₙ = Λₙ * (inv(Λ₀)*μ₀ + n*inv(S₀)*μ₀)\n",
        "        θ = rand(MvNormal( vec(μₙ), Λₙ))\n",
        "\n",
        "        # update Σ\n",
        "        res = crab .- reshape(θ, 1, p)\n",
        "        Sₜₕ = transpose(res) * res\n",
        "        Sₙ = S₀ + Sₜₕ\n",
        "        Σ = rand(InverseWishart(ν₀ + n, Sₙ))\n",
        "        # Store data\n",
        "        θs[s,:] = θ\n",
        "        Σs[s,:, :] = Σ\n",
        "    end\n",
        "    return θs, Σs\n",
        "end \n",
        "\n",
        "\n",
        "θbs, Σbs = sampling(dblue)\n",
        "θos, Σos = sampling(doran);"
      ],
      "id": "d98e463e",
      "execution_count": null,
      "outputs": []
    },
    {
      "cell_type": "markdown",
      "metadata": {},
      "source": [
        "### (b)\n",
        "\n",
        "> Plot values of $\\theta=(\\theta_1, \\theta_2)'$ for each group and compare. Describe any size differences between the two groups.\n",
        "\n",
        "\n",
        "The blue crab has larger variance and lower means of $\\theta_1$ and $\\theta_2$ than orange one.\n"
      ],
      "id": "ac151618"
    },
    {
      "cell_type": "code",
      "metadata": {},
      "source": [
        "plot\n",
        "pb = scatter(θbs[:,1], θbs[:,2], label=\"Blue\")\n",
        "po = scatter(θos[:,1], θos[:,2], label=\"Orange\")\n",
        "\n",
        "μθb = mean(θbs, dims=1)\n",
        "μθo = mean(θos, dims=1)\n",
        "\n",
        "scatter!(pb, [μθb[1]], [μθb[2]], label=\"mean $(round.(μθb; digits = 1))))\", markersize = 10)\n",
        "scatter!(po, [μθo[1]], [μθo[2]], label=\"mean $(round.(μθo; digits = 1))\", markersize = 10)\n",
        "\n",
        "plot(pb, po, layout = (1, 2), xlabel=\"θ₁\", ylabel=\"θ₂\")"
      ],
      "id": "7ed029f7",
      "execution_count": null,
      "outputs": []
    },
    {
      "cell_type": "code",
      "metadata": {},
      "source": [
        "mean(θos[:,1] .> θbs[:,1])"
      ],
      "id": "c8d67be6",
      "execution_count": null,
      "outputs": []
    },
    {
      "cell_type": "code",
      "metadata": {},
      "source": [
        "mean(θos[:,2] .> θbs[:,2])"
      ],
      "id": "1bb3ef02",
      "execution_count": null,
      "outputs": []
    },
    {
      "cell_type": "markdown",
      "metadata": {},
      "source": [
        "### (c)\n",
        "\n",
        "> From each covariance matrix obtained from the Gibbs sampler, obtain the corresponding correlation coefficient. From these values, plot posterior densities of the correlations $\\rho_{\\text{blue}}$ and $\\rho_{\\text{orange}}$ for the two groups. Evaluate differences between the two species by comparing these posterior distributions. In particular, obtain an approximation to $Pr(\\rho_{\\text{blue}} < \\rho_{\\text{orange}} | y_{\\text{blue}}, y_{\\text{orange}})$. What do the results suggest about differences between the two populations?\n"
      ],
      "id": "469ba090"
    },
    {
      "cell_type": "code",
      "metadata": {},
      "source": [
        "correlation(covmat) = covmat[1,2] / sqrt(covmat[1,1] * covmat[2,2])\n",
        "\n",
        "corrbs = [correlation(Σbs[i,:,:]) for i in 1:S]\n",
        "corros = [correlation(Σos[i,:,:]) for i in 1:S];\n",
        "\n",
        "h = histogram(corrbs, label=\"Blue\", xlabel=\"Correlation\")\n",
        "histogram!(h, corros, label=\"Orange\", ylabel=\"Count\")"
      ],
      "id": "9942fe3e",
      "execution_count": null,
      "outputs": []
    },
    {
      "cell_type": "markdown",
      "metadata": {},
      "source": [
        "$Pr(\\rho_{\\text{blue}} < \\rho_{\\text{orange}} | y_{\\text{blue}}, y_{\\text{orange}})$ is "
      ],
      "id": "c0931800"
    },
    {
      "cell_type": "code",
      "metadata": {},
      "source": [
        "mean(corrbs .< corros)"
      ],
      "id": "39e60484",
      "execution_count": null,
      "outputs": []
    },
    {
      "cell_type": "markdown",
      "metadata": {},
      "source": [
        "## Problem 7.4\n",
        "\n",
        "> Marriage data: The file `agehw.dat` contains data on the ages of $100$ married couples sampled from the U.S. population.\n"
      ],
      "id": "df9fa826"
    },
    {
      "cell_type": "code",
      "metadata": {},
      "source": [
        "dagew = readdlm(\"data/agehw.dat\")[2:end, :]\n",
        "size(dagew)"
      ],
      "id": "db73f85f",
      "execution_count": null,
      "outputs": []
    },
    {
      "cell_type": "markdown",
      "metadata": {},
      "source": [
        "### (a)\n",
        "\n",
        "> Before you look at the data, use your own knowledge to formulate a semiconjugate prior distribution for $\\theta=(\\theta_h, \\theta_w)^T$ and $\\Sigma$, where $\\theta_h$, $\\theta_w$ are mean husband and wife ages, and $\\Sigma$ is the covariance matrix.\n",
        "\n",
        "- $\\mu_0 = (50, 50)^T$\n",
        "- prior corrleation: $0.7$, variance $13$\n",
        "    - $0.7 = \\frac{\\sigma_{1,2}}{169}$\n",
        "    - $\\sigma_{1,2} = 118.3$\n",
        "- $\\Lambda = \\begin{bmatrix} 169 & 118.3\\\\ 118.3 & 169\\end{bmatrix}$\n",
        "- Set $S^{-1}_{0} = \\Lambda_{0}$\n",
        "- $\\nu_0 = p + 2 = 4$\n"
      ],
      "id": "40304eca"
    },
    {
      "cell_type": "code",
      "metadata": {},
      "source": [
        "n, p = size(dagew);\n",
        "\n",
        "μ₀ = ones(p,1) .* transpose(mean(dagew, dims=1))\n",
        "Λ₀ = S₀ = [ 169 118.3 ; 118.3 169]\n",
        "ν₀ = p + 2;"
      ],
      "id": "bad51755",
      "execution_count": null,
      "outputs": []
    },
    {
      "cell_type": "markdown",
      "metadata": {},
      "source": [
        "### (b)\n",
        "\n",
        "> Generate a *prior predictive dataset* of size $n=100$, by sampling $(\\theta, \\Sigma)$ from your prior distribution and then simulating $Y_1, \\dots, Y_n \\sim i.i.d.$ multivariate normal $(\\theta, \\Sigma)$. Generate several such datasets, make bivariate scatterplots for each dataset, and make sure they roughly represent your prior beliefs about what such a dataset would actually look like. If your prior predictive datasets do not confirm to your beliefs, go back to part (a) and formulate a new prior. Report the prior that you eventually decide upon, and provide scatterplots for at least three prior predictive datasets.\n",
        "\n",
        "Choose \n",
        "\n",
        "$p = 2$, and Λ₀ = S₀ = [ 169 118.3 ; 118.3 169]\n"
      ],
      "id": "e1bb1850"
    },
    {
      "cell_type": "code",
      "metadata": {},
      "source": [
        "N = 100\n",
        "S = 9 \n",
        "\n",
        "Ypreds = zeros(S, p, N)\n",
        "for i in 1:S\n",
        "    θ = rand(MvNormal( vec(μ₀), Λ₀))\n",
        "    Σ = rand(InverseWishart(ν₀ + n, S₀))\n",
        "    Ypreds[i,:, :] = rand(MvNormal(θ, Σ), N)\n",
        "end\n",
        "\n",
        "pvers = [plot() for i in 1:S]\n",
        "for i in 1:S\n",
        "    scatter!(pvers[i], Ypreds[i, 1, :], Ypreds[i, 2, :], label=\"Dataset $i\")\n",
        "end\n",
        "\n",
        "plot(pvers..., layout = (3, 3), xlabel=\"Y₁\", ylabel=\"Y₂\")"
      ],
      "id": "711b662a",
      "execution_count": null,
      "outputs": []
    },
    {
      "cell_type": "markdown",
      "metadata": {},
      "source": [
        "### (c)\n",
        "\n",
        "> Using your prior distribution and the $100$ values in the dataset, obtain an MCMC approximation to $p(\\theta, \\Sigma|y_1, \\dots, y_{100})$. Plot the joint posterior distribution of $\\theta_h$ and $\\theta_w$, and also the marginal posterior density of the correlation between Y_h and Y_w, the ages of a husband and wife. Obtain $95\\%$ posterior confidence intervals for $\\theta_h$, $\\theta_w$ and the correlation coefficient.\n"
      ],
      "id": "206a6de3"
    },
    {
      "cell_type": "code",
      "metadata": {},
      "source": [
        "S = 10000\n",
        "\n",
        "function mcmc(data, μ₀, Λ₀, S₀, ν₀)\n",
        "    yₙ = mean(data, dims=1)\n",
        "    n, p = size(data)\n",
        "\n",
        "    θs = zeros(S, p)\n",
        "    Σs = zeros(S, p, p)\n",
        "    Σ = cov(data)\n",
        "    for i in 1:S\n",
        "        #update θ\n",
        "        Λₙ = inv(inv(Λ₀) + n * inv(Σ))\n",
        "        Λₙ[1,2] = Λₙ[2,1]\n",
        "\n",
        "        μₙ = Λₙ * (inv(Λ₀)*μ₀ + n*inv(Σ) * transpose(yₙ))\n",
        "\n",
        "   \n",
        "        θ = rand(MvNormal( vec(μₙ), Λₙ))\n",
        "\n",
        "        #update Σ\n",
        "        res = data .- reshape(θ, 1, p)\n",
        "        Sₜₕ = transpose(res) * res\n",
        "        Sₙ = S₀ + Sₜₕ\n",
        "        Σ = rand(InverseWishart(ν₀ + n, Sₙ))\n",
        "        # Store data\n",
        "        θs[i,:] = θ\n",
        "        Σs[i,:, :] = Σ\n",
        "    end\n",
        "\n",
        "    return θs, Σs\n",
        "end\n",
        "\n",
        "θs, Σs = mcmc(dagew, μ₀, Λ₀, S₀, ν₀);\n",
        "corrs = [correlation(Σs[i,:,:]) for i in 1:S];"
      ],
      "id": "c1c1c417",
      "execution_count": null,
      "outputs": []
    },
    {
      "cell_type": "markdown",
      "metadata": {},
      "source": [
        "**Husband Quantiles**"
      ],
      "id": "af6bf3a7"
    },
    {
      "cell_type": "code",
      "metadata": {},
      "source": [
        "quantile(θs[:,1], [0.025, 0.5, 0.975])"
      ],
      "id": "50474090",
      "execution_count": null,
      "outputs": []
    },
    {
      "cell_type": "markdown",
      "metadata": {},
      "source": [
        "**Wife Quantiles**"
      ],
      "id": "012b07a5"
    },
    {
      "cell_type": "code",
      "metadata": {},
      "source": [
        "quantile(θs[:,2], [0.025, 0.5, 0.975])"
      ],
      "id": "a72fb252",
      "execution_count": null,
      "outputs": []
    },
    {
      "cell_type": "markdown",
      "metadata": {},
      "source": [
        "**Correlation Quantiles**"
      ],
      "id": "33a0ad06"
    },
    {
      "cell_type": "code",
      "metadata": {},
      "source": [
        "quantile(corrs, [0.025, 0.5, 0.975])"
      ],
      "id": "b9d1747c",
      "execution_count": null,
      "outputs": []
    },
    {
      "cell_type": "markdown",
      "metadata": {},
      "source": [
        "### (d)\n",
        "\n",
        "> Obtain $95\\%$ posterior confidence intervals for $\\theta_h$, $\\theta_{\\omega}$ and the correlation coefficient using the following prior distributions:\n",
        ">\n",
        "> 1. Jeffrey's prior, described in Exercise 7.1;\n",
        "> 2. The unit information prior, described in Exercise 7.2;\n",
        "> 3. A \"diffuse prior\" with $\\mu_0=0, \\Lambda_0 = 10^5 \\times I, S_0 = 1000\\times I$ and $v_0 =3$.\n",
        "\n",
        "\n",
        "#### Part I**\n"
      ],
      "id": "fb972751"
    },
    {
      "cell_type": "code",
      "metadata": {},
      "source": [
        "θs, Σs = mcmc(dagew, μ₀, cov(dagew), cov(dagew), size(dagew)[1]+1);\n",
        "corrs = [correlation(Σs[i,:,:]) for i in 1:S];"
      ],
      "id": "6e4b4475",
      "execution_count": null,
      "outputs": []
    },
    {
      "cell_type": "markdown",
      "metadata": {},
      "source": [
        "**Husband Quantiles**\n"
      ],
      "id": "8a491e9e"
    },
    {
      "cell_type": "code",
      "metadata": {},
      "source": [
        "quantile(θs[:,1], [0.025, 0.5, 0.975])"
      ],
      "id": "8c2699e7",
      "execution_count": null,
      "outputs": []
    },
    {
      "cell_type": "markdown",
      "metadata": {},
      "source": [
        "**Wife Quantiles**\n"
      ],
      "id": "cb76b0bf"
    },
    {
      "cell_type": "code",
      "metadata": {},
      "source": [
        "quantile(θs[:,2], [0.025, 0.5, 0.975])"
      ],
      "id": "1151e69d",
      "execution_count": null,
      "outputs": []
    },
    {
      "cell_type": "markdown",
      "metadata": {},
      "source": [
        "**Correlation Quantiles**\n"
      ],
      "id": "60b506fd"
    },
    {
      "cell_type": "code",
      "metadata": {},
      "source": [
        "quantile(corrs, [0.025, 0.5, 0.975])"
      ],
      "id": "a5fb023c",
      "execution_count": null,
      "outputs": []
    },
    {
      "cell_type": "markdown",
      "metadata": {},
      "source": [
        "#### Part II\n"
      ],
      "id": "78ca7688"
    },
    {
      "cell_type": "code",
      "metadata": {},
      "source": [
        "θs, Σs = mcmc(dagew, transpose(mean(dagew, dims=1)), cov(dagew)/100., cov(dagew)/100., 2. + 1.);\n",
        "corrs = [correlation(Σs[i,:,:]) for i in 1:S];"
      ],
      "id": "266ec58d",
      "execution_count": null,
      "outputs": []
    },
    {
      "cell_type": "markdown",
      "metadata": {},
      "source": [
        "**Husband Quantiles**\n"
      ],
      "id": "27fcfba6"
    },
    {
      "cell_type": "code",
      "metadata": {},
      "source": [
        "quantile(θs[:,1], [0.025, 0.5, 0.975])"
      ],
      "id": "056dedc7",
      "execution_count": null,
      "outputs": []
    },
    {
      "cell_type": "markdown",
      "metadata": {},
      "source": [
        "**Wife Quantiles**\n"
      ],
      "id": "8ac968bf"
    },
    {
      "cell_type": "code",
      "metadata": {},
      "source": [
        "quantile(θs[:,2], [0.025, 0.5, 0.975])"
      ],
      "id": "7cbe1415",
      "execution_count": null,
      "outputs": []
    },
    {
      "cell_type": "markdown",
      "metadata": {},
      "source": [
        "**Correlation Quantiles**\n"
      ],
      "id": "7cf31b15"
    },
    {
      "cell_type": "code",
      "metadata": {},
      "source": [
        "quantile(corrs, [0.025, 0.5, 0.975])"
      ],
      "id": "e24e40c0",
      "execution_count": null,
      "outputs": []
    },
    {
      "cell_type": "markdown",
      "metadata": {},
      "source": [
        "#### Part III\n"
      ],
      "id": "372fd729"
    },
    {
      "cell_type": "code",
      "metadata": {},
      "source": [
        "θs, Σs = mcmc(dagew, [0;0], [10^5 0; 0 10^5], [10^3 0; 0 10^3], 3);\n",
        "corrs = [correlation(Σs[i,:,:]) for i in 1:S];"
      ],
      "id": "8ece9ba0",
      "execution_count": null,
      "outputs": []
    },
    {
      "cell_type": "markdown",
      "metadata": {},
      "source": [
        "**Husband Quantiles**\n"
      ],
      "id": "7051e730"
    },
    {
      "cell_type": "code",
      "metadata": {},
      "source": [
        "quantile(θs[:,1], [0.025, 0.5, 0.975])"
      ],
      "id": "39ce8eac",
      "execution_count": null,
      "outputs": []
    },
    {
      "cell_type": "markdown",
      "metadata": {},
      "source": [
        "**Wife Quantiles**\n"
      ],
      "id": "84254e7f"
    },
    {
      "cell_type": "code",
      "metadata": {},
      "source": [
        "quantile(θs[:,2], [0.025, 0.5, 0.975])"
      ],
      "id": "4631d844",
      "execution_count": null,
      "outputs": []
    },
    {
      "cell_type": "markdown",
      "metadata": {},
      "source": [
        "**Correlation Quantiles**\n"
      ],
      "id": "9436f55c"
    },
    {
      "cell_type": "code",
      "metadata": {},
      "source": [
        "quantile(corrs, [0.025, 0.5, 0.975])"
      ],
      "id": "e05e9318",
      "execution_count": null,
      "outputs": []
    },
    {
      "cell_type": "markdown",
      "metadata": {},
      "source": [
        "### (e)\n",
        "\n",
        "> Compare the confidence intervals from (d) to those obtained in (c). Discuss whether or not you think that your prior information is helpful in estimating $\\theta$ and $\\Sigma$, or if you think one of the alternatives in (d) is preferable. What about if the sample size were much smaller, say $n=25$?\n",
        "\n",
        "The prior information does not matter because the sample size is large. No matter how prior is setup, the posterior distribution is similar. However, for smaller sample size, those approaches may differ.\n"
      ],
      "id": "36bde4ab"
    },
    {
      "cell_type": "code",
      "metadata": {},
      "source": [
        "μ₀ = [50.; 50.]\n",
        "Λ₀ = S₀ = [ 169 118.3 ; 118.3 169]\n",
        "ν₀ = p + 2+9;\n",
        "\n",
        "θs, Σs = mcmc(dagew, μ₀, Λ₀, S₀, ν₀)"
      ],
      "id": "87c5db98",
      "execution_count": null,
      "outputs": []
    },
    {
      "cell_type": "markdown",
      "metadata": {},
      "source": [
        "**Husband Quantiles**\n"
      ],
      "id": "cc3368cb"
    },
    {
      "cell_type": "code",
      "metadata": {},
      "source": [
        "quantile(θs[:,1], [0.025, 0.5, 0.975])"
      ],
      "id": "6d470fd7",
      "execution_count": null,
      "outputs": []
    },
    {
      "cell_type": "markdown",
      "metadata": {},
      "source": [
        "**Wife Quantiles**\n"
      ],
      "id": "66c4cc1c"
    },
    {
      "cell_type": "code",
      "metadata": {},
      "source": [
        "quantile(θs[:,2], [0.025, 0.5, 0.975])"
      ],
      "id": "e7022fe8",
      "execution_count": null,
      "outputs": []
    },
    {
      "cell_type": "markdown",
      "metadata": {},
      "source": [
        "**Correlation Quantiles**\n"
      ],
      "id": "50de70fb"
    },
    {
      "cell_type": "code",
      "metadata": {},
      "source": [
        "quantile(corrs, [0.025, 0.5, 0.975])"
      ],
      "id": "5ecf7c1b",
      "execution_count": null,
      "outputs": []
    },
    {
      "cell_type": "markdown",
      "metadata": {},
      "source": [
        "::: {.content-hidden when-format=\"html\"}\n",
        "\n",
        "## References\n",
        "\n",
        ":::"
      ],
      "id": "5d142988"
    }
  ],
  "metadata": {
    "kernelspec": {
      "name": "julia-1.8",
      "language": "julia",
      "display_name": "Julia 1.8.0"
    }
  },
  "nbformat": 4,
  "nbformat_minor": 5
}