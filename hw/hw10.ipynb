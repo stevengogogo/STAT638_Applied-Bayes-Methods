{
  "cells": [
    {
      "cell_type": "raw",
      "metadata": {},
      "source": [
        "---\n",
        "title: Homework 10\n",
        "author:\n",
        "  - name: 'Shao-Ting Chiu (UIN:433002162)'\n",
        "    url: stchiu@email.tamu.edu\n",
        "    affiliation: 'Department of Electrical and Computer Engineering, Texas A\\&M University'\n",
        "date: today\n",
        "bibliography: ../ref.bib\n",
        "format:\n",
        "  html:\n",
        "    table-of-contents: true\n",
        "    keep-ipynb: true\n",
        "  pdf:\n",
        "    table-of-contents: true\n",
        "    tex-engine: lualatex\n",
        "execute:\n",
        "  echo: true\n",
        "  freeze: auto\n",
        "---"
      ],
      "id": "8691ccf1"
    },
    {
      "cell_type": "markdown",
      "metadata": {},
      "source": [
        "## Descrition\n",
        "\n",
        "- Course: STAT638, 2022Fall\n",
        "- Deadline: 2022/10/29, 12:01 pm\n",
        "> Read Chapter 10 in the Hoff book\n",
        "\n",
        "*Source code is shown here: [https://stchiu.quarto.pub/stat638__hw10/](https://stchiu.quarto.pub/stat638__hw10/)*\n",
        "\n",
        "## Computational Environment\n",
        "\n",
        "### Libraries\n"
      ],
      "id": "d3ef695b"
    },
    {
      "cell_type": "code",
      "metadata": {},
      "source": [
        "cd(@__DIR__)\n",
        "using Pkg\n",
        "Pkg.activate(\"hw10\")\n",
        "\n",
        "using Statistics \n",
        "using Distributions\n",
        "using LinearAlgebra\n",
        "using KernelDensity\n",
        "using Plots"
      ],
      "id": "99a9d097",
      "execution_count": null,
      "outputs": []
    },
    {
      "cell_type": "markdown",
      "metadata": {},
      "source": [
        "### Version\n"
      ],
      "id": "39a757af"
    },
    {
      "cell_type": "code",
      "metadata": {},
      "source": [
        "Pkg.status()\n",
        "VERSION"
      ],
      "id": "97e1d831",
      "execution_count": null,
      "outputs": []
    },
    {
      "cell_type": "markdown",
      "metadata": {},
      "source": [
        "## Problem HW10-1\n",
        "\n",
        "> Assume we have $4$ observations, $(-1,0,1,10)$, where the last observation can be thought of as an outlier. Assume that conditional on an unknown parameter $\\theta$, the data area i.i.d. from some population distribution. Assume a standard normal prior for $\\theta$.\n",
        "\n",
        "### (1)\n",
        "\n",
        "> First, assume that the population distribution is a normal distribution with mean $\\theta$ and variance $1$. Draw samples from the posterior of $\\theta$ using a Metropolis algorithm and also derive the exact posterior in closed form.\n",
        "\n",
        "\n",
        "**Exact**\n",
        "\n",
        "\n",
        "\n",
        "$$\\theta \\sim Normal(\\mu=0, \\tau^{2}=1)$$\n",
        "$$Y \\sim Normal(\\theta, \\sigma^2 = 1)$$\n",
        "\n",
        "\\begin{align}\n",
        "  P(\\theta | y, \\sigma^2)%\n",
        "  &\\sim Normal(\\mu_n, \\tau_{n}^2)\n",
        "\\end{align}\n",
        "\n",
        "- $\\mu_n = \\bar{y}\\frac{n/\\sigma^2}{n/\\sigma^2 + 1/\\tau^2} + \\mu \\frac{1/\\tau^2}{n/\\sigma^2 + 1/\\tau^2}$\n",
        "- $\\tau^{2}_{n} = \\frac{1}{n/\\sigma^2 + 1/\\tau^2}$\n"
      ],
      "id": "3b1456e7"
    },
    {
      "cell_type": "code",
      "metadata": {},
      "source": [
        "ys = [-1., 0., 1., 10.]\n",
        "\n",
        "\n",
        "\n",
        "θ = Normal()\n",
        "k = 300000\n",
        "δ² = 1.\n",
        "\n",
        "function sampling_ma(like_dist, θ, k, δ²)\n",
        "    θs = zeros(k)\n",
        "    th = 0.\n",
        "    for i in 1:k \n",
        "        θᵒ = th\n",
        "        J = Normal(θᵒ, δ²)\n",
        "        θʷ = rand(J)\n",
        "        r_log = sum(logpdf.( like_dist(θʷ, 1), ys) .- logpdf.( like_dist(θᵒ, 1), ys)) + logpdf(θ, θʷ) - logpdf(θ, θᵒ)\n",
        "\n",
        "        # Accept\n",
        "        u_log = log(rand(Uniform()))\n",
        "        if r_log > u_log \n",
        "            θs[i] = θʷ\n",
        "        else \n",
        "            θs[i] = θᵒ\n",
        "        end \n",
        "        th = θs[i]\n",
        "    end\n",
        "    return θs\n",
        "end\n",
        "\n",
        "θs_n = sampling_ma(Normal, θ, k, δ²)\n",
        "\n",
        "# Exact PDF\n",
        "n = length(ys)\n",
        "τₙ =( 1 / (n/ 1 + 1/ 1)^0.5)\n",
        "μₙ = mean(ys) * (n / 1) / (n/ 1 + 1/1) + 0 \n",
        "θ_exact = Normal(μₙ, τₙ )\n",
        "xs = collect(-3:0.01:4)\n",
        "ys_exact = pdf.(θ_exact, xs)\n",
        "\n",
        "# Display\n",
        "p = histogram(θs_n, normalize=:pdf, xlabel=\"θ\", ylabel=\"P(θ|y)\", label=\"Metropolis\", title=\"Normal Model\")\n",
        "plot!(p, xs, ys_exact, label=\"Exact PDF\")"
      ],
      "id": "c0ebdfc1",
      "execution_count": null,
      "outputs": []
    },
    {
      "cell_type": "markdown",
      "metadata": {},
      "source": [
        "### (2)\n",
        "\n",
        "> Now assume the population distribution is a Cauchy distribution with location parameter $\\theta$ and scale $1$. (This is equivalent to a nonstandardized t distribution with one degree of freedom and location parameter $\\theta$.) Draw samples from the posterior using the Metropolis algorithm.\n"
      ],
      "id": "42a4e1f8"
    },
    {
      "cell_type": "code",
      "metadata": {},
      "source": [
        "θs_c = sampling_ma(Cauchy, θ, k, δ²)\n",
        "p2 = histogram(θs_c, normalize=:pdf, xlabel=\"θ\", ylabel=\"P(θ|y)\", label=\"Metropolis\", title=\"Cauchy Model\")\n",
        "\n",
        "display(p2)"
      ],
      "id": "74fe5f17",
      "execution_count": null,
      "outputs": []
    },
    {
      "cell_type": "markdown",
      "metadata": {},
      "source": [
        "### (3)\n",
        "\n",
        "> Plot the exact posterior density from part $1$, together with kernel density estimates from the two Metropolis samplers. Describe how the outlier has affected the posteriors.\n",
        "\n",
        "Cauchy distribution as likelihood distribution is less sensitive to the outliers than Normal distribution.\n"
      ],
      "id": "3d279647"
    },
    {
      "cell_type": "code",
      "metadata": {},
      "source": [
        "Un = kde(θs_n)\n",
        "Uc = kde(θs_c)\n",
        "pdf_n = [pdf(Un, x) for x in xs]\n",
        "pdf_c = [pdf(Uc, x) for x in xs]\n",
        "p3 = plot(xlabel=\"θ\", ylabel=\"P(θ|y)\", title=\"Pop dist. of Cuachy and Normal\")\n",
        "plot!(p3, xs, pdf_n, label=\"Normal\")\n",
        "plot!(p3, xs, pdf_c, label=\"Cauchy\")\n",
        "plot!(p3, xs, ys_exact, label=\"Exact PDF (Normal)\")\n",
        "scatter!(p3, ys, zeros(length(ys)), label=\"data\")\n",
        "display(p3)"
      ],
      "id": "c90d8efe",
      "execution_count": null,
      "outputs": []
    }
  ],
  "metadata": {
    "kernelspec": {
      "name": "julia-1.8",
      "language": "julia",
      "display_name": "Julia 1.8.0"
    }
  },
  "nbformat": 4,
  "nbformat_minor": 5
}