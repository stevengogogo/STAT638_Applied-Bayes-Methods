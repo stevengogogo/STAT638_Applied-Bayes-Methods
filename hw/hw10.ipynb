{
  "cells": [
    {
      "cell_type": "raw",
      "metadata": {},
      "source": [
        "---\n",
        "title: Homework 10\n",
        "author:\n",
        "  - name: 'Shao-Ting Chiu (UIN:433002162)'\n",
        "    url: stchiu@email.tamu.edu\n",
        "    affiliation: 'Department of Electrical and Computer Engineering, Texas A\\&M University'\n",
        "date: today\n",
        "bibliography: ../ref.bib\n",
        "format:\n",
        "  html:\n",
        "    table-of-contents: true\n",
        "    keep-ipynb: true\n",
        "  pdf:\n",
        "    table-of-contents: true\n",
        "    tex-engine: lualatex\n",
        "execute:\n",
        "  echo: true\n",
        "  freeze: auto\n",
        "---"
      ],
      "id": "e289821e"
    },
    {
      "cell_type": "markdown",
      "metadata": {},
      "source": [
        "## Descrition\n",
        "\n",
        "- Course: STAT638, 2022Fall\n",
        "- Deadline: 2022/10/29, 12:01 pm\n",
        "> Read Chapter 10 in the Hoff book\n"
      ],
      "id": "5e41087f"
    },
    {
      "cell_type": "code",
      "metadata": {},
      "source": [
        "using Statistics"
      ],
      "id": "31a8adc1",
      "execution_count": null,
      "outputs": []
    },
    {
      "cell_type": "markdown",
      "metadata": {},
      "source": [
        "## Problem HW10-1\n",
        "\n",
        "> Assume we have $4$ observations, $(-1,0,1,10)$, where the last observation can be thought of as an outlier. Assume that conditional on an unknown parameter $\\theta$, the data area i.i.d. from some population distribution. Assume a standard normal prior for $\\theta$.\n",
        "\n",
        "### (1)\n",
        "\n",
        "> First, assume that the population distribution is a normal distribution with mean $\\theta$ and variance $1$. Draw samples from the posterior of $\\theta$ using a Metropolis algorithm and also derive the exact posterior in closed form.\n"
      ],
      "id": "cbbf9cbe"
    },
    {
      "cell_type": "code",
      "metadata": {},
      "source": [
        "data = [-1., 0., 1., 10.]"
      ],
      "id": "9d5a6466",
      "execution_count": null,
      "outputs": []
    },
    {
      "cell_type": "markdown",
      "metadata": {},
      "source": [
        "**Exact**\n"
      ],
      "id": "67a84519"
    },
    {
      "cell_type": "code",
      "metadata": {},
      "source": [
        "mean(data)a"
      ],
      "id": "f0be4c53",
      "execution_count": null,
      "outputs": []
    },
    {
      "cell_type": "code",
      "metadata": {},
      "source": [
        "1 / var(data)"
      ],
      "id": "bd930cb8",
      "execution_count": null,
      "outputs": []
    },
    {
      "cell_type": "markdown",
      "metadata": {},
      "source": [
        "\\begin{align}\n",
        "  \\sigma^{-2}_{n}%\n",
        "  &= \\sigma^{-2}_{0} + n\\sigma^{-2}\\\\\n",
        "  &\\approx 1 + 4 \\times 0.039\\\\\n",
        "  &\\approx 1.156\n",
        "\\end{align}\n",
        "a\n",
        "\\begin{align}\n",
        "  \\mu_n%\n",
        "  &= (\\frac{\\sigma^{-2}_{0}}{\\sigma^{-2}_{n}})\\mu_0 + (\\frac{n\\sigma^{-2}}{\\sigma^{-2}_n})\\bar{y}\\\\ \n",
        "  &\\approx (\\frac{1}{1.156})\\theta + (\\frac{0.039 \\times 4}{1.156})\\times 2.5\\\\\n",
        "  & \\approx 0.87 \\theta + 0.337\\\\\n",
        "\\end{align}\n",
        "\n",
        "$$\\theta \\sim Normal(0,1)$$\n",
        "\n",
        "\\begin{}\n",
        "\n",
        "### (2)\n",
        "\n",
        "> Now assume the population distribution is a Cauchy distribution with location parameter $\\theta$ and scale $1$. (This is equivalent to a nonstandardized t distribution with one degree of freedom and location parameter $\\theta$.) Draw samples from the posterior using the Metropolis algorithm.\n",
        "\n",
        "### (3)\n",
        "\n",
        "> Plot the exact posterior density from part $1$, together with kernel density estimates from the two Metropolis samplers. Describe how the outlier has affected the posteriors."
      ],
      "id": "399c00a0"
    }
  ],
  "metadata": {
    "kernelspec": {
      "name": "julia-1.8",
      "language": "julia",
      "display_name": "Julia 1.8.0"
    }
  },
  "nbformat": 4,
  "nbformat_minor": 5
}