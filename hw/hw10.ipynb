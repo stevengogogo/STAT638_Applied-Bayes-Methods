{
 "cells": [
  {
   "cell_type": "raw",
   "id": "185a18ad",
   "metadata": {},
   "source": [
    "---\n",
    "title: Homework 10\n",
    "author:\n",
    "  - name: 'Shao-Ting Chiu (UIN:433002162)'\n",
    "    url: stchiu@email.tamu.edu\n",
    "    affiliation: 'Department of Electrical and Computer Engineering, Texas A\\&M University'\n",
    "date: today\n",
    "bibliography: ../ref.bib\n",
    "format:\n",
    "  html:\n",
    "    table-of-contents: true\n",
    "    keep-ipynb: true\n",
    "  pdf:\n",
    "    table-of-contents: true\n",
    "    tex-engine: lualatex\n",
    "execute:\n",
    "  echo: true\n",
    "  freeze: auto\n",
    "---"
   ]
  },
  {
   "cell_type": "markdown",
   "id": "1bce8284",
   "metadata": {},
   "source": [
    "## Descrition\n",
    "\n",
    "- Course: STAT638, 2022Fall\n",
    "- Deadline: 2022/10/29, 12:01 pm\n",
    "> Read Chapter 10 in the Hoff book\n"
   ]
  },
  {
   "cell_type": "code",
   "execution_count": 1,
   "id": "49b55772",
   "metadata": {},
   "outputs": [],
   "source": [
    "using Statistics"
   ]
  },
  {
   "cell_type": "markdown",
   "id": "6adbb92d",
   "metadata": {},
   "source": [
    "## Problem HW10-1\n",
    "\n",
    "> Assume we have $4$ observations, $(-1,0,1,10)$, where the last observation can be thought of as an outlier. Assume that conditional on an unknown parameter $\\theta$, the data area i.i.d. from some population distribution. Assume a standard normal prior for $\\theta$.\n",
    "\n",
    "### (1)\n",
    "\n",
    "> First, assume that the population distribution is a normal distribution with mean $\\theta$ and variance $1$. Draw samples from the posterior of $\\theta$ using a Metropolis algorithm and also derive the exact posterior in closed form.\n"
   ]
  },
  {
   "cell_type": "code",
   "execution_count": 2,
   "id": "61d2ac49",
   "metadata": {},
   "outputs": [
    {
     "data": {
      "text/plain": [
       "4-element Vector{Float64}:\n",
       " -1.0\n",
       "  0.0\n",
       "  1.0\n",
       " 10.0"
      ]
     },
     "execution_count": 169,
     "metadata": {},
     "output_type": "execute_result"
    }
   ],
   "source": [
    "data = [-1., 0., 1., 10.]"
   ]
  },
  {
   "cell_type": "markdown",
   "id": "09a5c45e",
   "metadata": {},
   "source": [
    "**Exact**\n"
   ]
  },
  {
   "cell_type": "code",
   "execution_count": 3,
   "id": "160f0fa7",
   "metadata": {},
   "outputs": [
    {
     "data": {
      "text/plain": [
       "2.5"
      ]
     },
     "execution_count": 170,
     "metadata": {},
     "output_type": "execute_result"
    }
   ],
   "source": [
    "mean(data)"
   ]
  },
  {
   "cell_type": "code",
   "execution_count": 4,
   "id": "5c6566c0",
   "metadata": {},
   "outputs": [
    {
     "data": {
      "text/plain": [
       "0.03896103896103896"
      ]
     },
     "execution_count": 171,
     "metadata": {},
     "output_type": "execute_result"
    }
   ],
   "source": [
    "1 / var(data)"
   ]
  },
  {
   "cell_type": "markdown",
   "id": "a6fa1a24",
   "metadata": {},
   "source": [
    "$$\\theta \\sim Normal(\\mu_0=0, \\tau^{2}_{0}=1)$$\n",
    "$$Y \\sim Normal(\\theta, \\sigma^2 = 1)$$\n",
    "\n",
    "\\begin{align}\n",
    "  P(\\theta | y, \\sigma^2)%\n",
    "  &\\propto \\exp\\{-\\frac{1}{2\\tau^{2}_{0}}(\\theta - \\mu_0)^2\\}\\exp\\{-\\frac{1}{2\\sigma^2}\\sum(y_i - \\theta)^2\\}\\\\\n",
    "  &= \\exp\\{-\\frac{1}{2}\\theta^2\\}\\exp\\{-\\frac{1}{2}\\sum(y_i - \\theta)^2\\}\\\\\n",
    "\\end{align}\n",
    "\n",
    "### (2)\n",
    "\n",
    "> Now assume the population distribution is a Cauchy distribution with location parameter $\\theta$ and scale $1$. (This is equivalent to a nonstandardized t distribution with one degree of freedom and location parameter $\\theta$.) Draw samples from the posterior using the Metropolis algorithm.\n",
    "\n",
    "### (3)\n",
    "\n",
    "> Plot the exact posterior density from part $1$, together with kernel density estimates from the two Metropolis samplers. Describe how the outlier has affected the posteriors."
   ]
  }
 ],
 "metadata": {
  "kernelspec": {
   "display_name": "Julia 1.8.0",
   "language": "julia",
   "name": "julia-1.8"
  }
 },
 "nbformat": 4,
 "nbformat_minor": 5
}
